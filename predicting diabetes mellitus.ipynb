{
 "cells": [
  {
   "cell_type": "code",
   "execution_count": 1,
   "metadata": {},
   "outputs": [],
   "source": [
    "\n",
    "import types\n",
    "import pandas as pd\n",
    "from botocore.client import Config\n",
    "import ibm_boto3\n",
    "\n",
    "def __iter__(self): return 0\n",
    "\n",
    "# @hidden_cell\n",
    "# The following code accesses a file in your IBM Cloud Object Storage. It includes your credentials.\n",
    "# You might want to remove those credentials before you share your notebook.\n",
    "client_7ab71323e0c845848c6538065b029102 = ibm_boto3.client(service_name='s3',\n",
    "    ibm_api_key_id='e_er6aA2CV7zSZE7qDXKqmKey9UgpWcLV9CklgzvIhU6',\n",
    "    ibm_auth_endpoint=\"https://iam.bluemix.net/oidc/token\",\n",
    "    config=Config(signature_version='oauth'),\n",
    "    endpoint_url='https://s3.eu-geo.objectstorage.service.networklayer.com')\n",
    "\n",
    "body = client_7ab71323e0c845848c6538065b029102.get_object(Bucket='predictingdiabetesmellitus-donotdelete-pr-gyrdht5gskzolz',Key='diabetes.csv')['Body']\n",
    "# add missing __iter__ method, so pandas accepts body as file-like object\n",
    "if not hasattr(body, \"__iter__\"): body.__iter__ = types.MethodType( __iter__, body )\n",
    "\n",
    "dataset = pd.read_csv(body)\n",
    "dataset.head()\n",
    "\n",
    "import numpy as np\n",
    "import pandas as pd"
   ]
  },
  {
   "cell_type": "code",
   "execution_count": 2,
   "metadata": {},
   "outputs": [],
   "source": [
    "#dataset=pd.read_csv(\"C:/Users/Suguna Simhadri/Desktop/diabetes.csv\")"
   ]
  },
  {
   "cell_type": "code",
   "execution_count": 3,
   "metadata": {},
   "outputs": [
    {
     "data": {
      "text/html": [
       "<div>\n",
       "<style scoped>\n",
       "    .dataframe tbody tr th:only-of-type {\n",
       "        vertical-align: middle;\n",
       "    }\n",
       "\n",
       "    .dataframe tbody tr th {\n",
       "        vertical-align: top;\n",
       "    }\n",
       "\n",
       "    .dataframe thead th {\n",
       "        text-align: right;\n",
       "    }\n",
       "</style>\n",
       "<table border=\"1\" class=\"dataframe\">\n",
       "  <thead>\n",
       "    <tr style=\"text-align: right;\">\n",
       "      <th></th>\n",
       "      <th>Pregnancies</th>\n",
       "      <th>Glucose</th>\n",
       "      <th>BloodPressure</th>\n",
       "      <th>SkinThickness</th>\n",
       "      <th>Insulin</th>\n",
       "      <th>BMI</th>\n",
       "      <th>DiabetesPedigreeFunction</th>\n",
       "      <th>Age</th>\n",
       "      <th>Outcome</th>\n",
       "    </tr>\n",
       "  </thead>\n",
       "  <tbody>\n",
       "    <tr>\n",
       "      <th>0</th>\n",
       "      <td>6</td>\n",
       "      <td>148</td>\n",
       "      <td>72</td>\n",
       "      <td>35</td>\n",
       "      <td>0</td>\n",
       "      <td>33.6</td>\n",
       "      <td>0.627</td>\n",
       "      <td>50</td>\n",
       "      <td>1</td>\n",
       "    </tr>\n",
       "    <tr>\n",
       "      <th>1</th>\n",
       "      <td>1</td>\n",
       "      <td>85</td>\n",
       "      <td>66</td>\n",
       "      <td>29</td>\n",
       "      <td>0</td>\n",
       "      <td>26.6</td>\n",
       "      <td>0.351</td>\n",
       "      <td>31</td>\n",
       "      <td>0</td>\n",
       "    </tr>\n",
       "    <tr>\n",
       "      <th>2</th>\n",
       "      <td>8</td>\n",
       "      <td>183</td>\n",
       "      <td>64</td>\n",
       "      <td>0</td>\n",
       "      <td>0</td>\n",
       "      <td>23.3</td>\n",
       "      <td>0.672</td>\n",
       "      <td>32</td>\n",
       "      <td>1</td>\n",
       "    </tr>\n",
       "    <tr>\n",
       "      <th>3</th>\n",
       "      <td>1</td>\n",
       "      <td>89</td>\n",
       "      <td>66</td>\n",
       "      <td>23</td>\n",
       "      <td>94</td>\n",
       "      <td>28.1</td>\n",
       "      <td>0.167</td>\n",
       "      <td>21</td>\n",
       "      <td>0</td>\n",
       "    </tr>\n",
       "    <tr>\n",
       "      <th>4</th>\n",
       "      <td>0</td>\n",
       "      <td>137</td>\n",
       "      <td>40</td>\n",
       "      <td>35</td>\n",
       "      <td>168</td>\n",
       "      <td>43.1</td>\n",
       "      <td>2.288</td>\n",
       "      <td>33</td>\n",
       "      <td>1</td>\n",
       "    </tr>\n",
       "  </tbody>\n",
       "</table>\n",
       "</div>"
      ],
      "text/plain": [
       "   Pregnancies  Glucose  BloodPressure  SkinThickness  Insulin   BMI  \\\n",
       "0            6      148             72             35        0  33.6   \n",
       "1            1       85             66             29        0  26.6   \n",
       "2            8      183             64              0        0  23.3   \n",
       "3            1       89             66             23       94  28.1   \n",
       "4            0      137             40             35      168  43.1   \n",
       "\n",
       "   DiabetesPedigreeFunction  Age  Outcome  \n",
       "0                     0.627   50        1  \n",
       "1                     0.351   31        0  \n",
       "2                     0.672   32        1  \n",
       "3                     0.167   21        0  \n",
       "4                     2.288   33        1  "
      ]
     },
     "execution_count": 3,
     "metadata": {},
     "output_type": "execute_result"
    }
   ],
   "source": [
    "dataset.head()"
   ]
  },
  {
   "cell_type": "code",
   "execution_count": 4,
   "metadata": {},
   "outputs": [
    {
     "data": {
      "text/plain": [
       "Pregnancies                 False\n",
       "Glucose                     False\n",
       "BloodPressure               False\n",
       "SkinThickness               False\n",
       "Insulin                     False\n",
       "BMI                         False\n",
       "DiabetesPedigreeFunction    False\n",
       "Age                         False\n",
       "Outcome                     False\n",
       "dtype: bool"
      ]
     },
     "execution_count": 4,
     "metadata": {},
     "output_type": "execute_result"
    }
   ],
   "source": [
    "dataset.isnull().any()"
   ]
  },
  {
   "cell_type": "code",
   "execution_count": 5,
   "metadata": {},
   "outputs": [],
   "source": [
    "x=dataset.iloc[:,:8]\n",
    "y=dataset.iloc[:,8]"
   ]
  },
  {
   "cell_type": "code",
   "execution_count": 6,
   "metadata": {},
   "outputs": [
    {
     "data": {
      "text/html": [
       "<div>\n",
       "<style scoped>\n",
       "    .dataframe tbody tr th:only-of-type {\n",
       "        vertical-align: middle;\n",
       "    }\n",
       "\n",
       "    .dataframe tbody tr th {\n",
       "        vertical-align: top;\n",
       "    }\n",
       "\n",
       "    .dataframe thead th {\n",
       "        text-align: right;\n",
       "    }\n",
       "</style>\n",
       "<table border=\"1\" class=\"dataframe\">\n",
       "  <thead>\n",
       "    <tr style=\"text-align: right;\">\n",
       "      <th></th>\n",
       "      <th>Pregnancies</th>\n",
       "      <th>Glucose</th>\n",
       "      <th>BloodPressure</th>\n",
       "      <th>SkinThickness</th>\n",
       "      <th>Insulin</th>\n",
       "      <th>BMI</th>\n",
       "      <th>DiabetesPedigreeFunction</th>\n",
       "      <th>Age</th>\n",
       "    </tr>\n",
       "  </thead>\n",
       "  <tbody>\n",
       "    <tr>\n",
       "      <th>0</th>\n",
       "      <td>6</td>\n",
       "      <td>148</td>\n",
       "      <td>72</td>\n",
       "      <td>35</td>\n",
       "      <td>0</td>\n",
       "      <td>33.6</td>\n",
       "      <td>0.627</td>\n",
       "      <td>50</td>\n",
       "    </tr>\n",
       "    <tr>\n",
       "      <th>1</th>\n",
       "      <td>1</td>\n",
       "      <td>85</td>\n",
       "      <td>66</td>\n",
       "      <td>29</td>\n",
       "      <td>0</td>\n",
       "      <td>26.6</td>\n",
       "      <td>0.351</td>\n",
       "      <td>31</td>\n",
       "    </tr>\n",
       "    <tr>\n",
       "      <th>2</th>\n",
       "      <td>8</td>\n",
       "      <td>183</td>\n",
       "      <td>64</td>\n",
       "      <td>0</td>\n",
       "      <td>0</td>\n",
       "      <td>23.3</td>\n",
       "      <td>0.672</td>\n",
       "      <td>32</td>\n",
       "    </tr>\n",
       "    <tr>\n",
       "      <th>3</th>\n",
       "      <td>1</td>\n",
       "      <td>89</td>\n",
       "      <td>66</td>\n",
       "      <td>23</td>\n",
       "      <td>94</td>\n",
       "      <td>28.1</td>\n",
       "      <td>0.167</td>\n",
       "      <td>21</td>\n",
       "    </tr>\n",
       "    <tr>\n",
       "      <th>4</th>\n",
       "      <td>0</td>\n",
       "      <td>137</td>\n",
       "      <td>40</td>\n",
       "      <td>35</td>\n",
       "      <td>168</td>\n",
       "      <td>43.1</td>\n",
       "      <td>2.288</td>\n",
       "      <td>33</td>\n",
       "    </tr>\n",
       "    <tr>\n",
       "      <th>5</th>\n",
       "      <td>5</td>\n",
       "      <td>116</td>\n",
       "      <td>74</td>\n",
       "      <td>0</td>\n",
       "      <td>0</td>\n",
       "      <td>25.6</td>\n",
       "      <td>0.201</td>\n",
       "      <td>30</td>\n",
       "    </tr>\n",
       "    <tr>\n",
       "      <th>6</th>\n",
       "      <td>3</td>\n",
       "      <td>78</td>\n",
       "      <td>50</td>\n",
       "      <td>32</td>\n",
       "      <td>88</td>\n",
       "      <td>31.0</td>\n",
       "      <td>0.248</td>\n",
       "      <td>26</td>\n",
       "    </tr>\n",
       "    <tr>\n",
       "      <th>7</th>\n",
       "      <td>10</td>\n",
       "      <td>115</td>\n",
       "      <td>0</td>\n",
       "      <td>0</td>\n",
       "      <td>0</td>\n",
       "      <td>35.3</td>\n",
       "      <td>0.134</td>\n",
       "      <td>29</td>\n",
       "    </tr>\n",
       "    <tr>\n",
       "      <th>8</th>\n",
       "      <td>2</td>\n",
       "      <td>197</td>\n",
       "      <td>70</td>\n",
       "      <td>45</td>\n",
       "      <td>543</td>\n",
       "      <td>30.5</td>\n",
       "      <td>0.158</td>\n",
       "      <td>53</td>\n",
       "    </tr>\n",
       "    <tr>\n",
       "      <th>9</th>\n",
       "      <td>8</td>\n",
       "      <td>125</td>\n",
       "      <td>96</td>\n",
       "      <td>0</td>\n",
       "      <td>0</td>\n",
       "      <td>0.0</td>\n",
       "      <td>0.232</td>\n",
       "      <td>54</td>\n",
       "    </tr>\n",
       "    <tr>\n",
       "      <th>10</th>\n",
       "      <td>4</td>\n",
       "      <td>110</td>\n",
       "      <td>92</td>\n",
       "      <td>0</td>\n",
       "      <td>0</td>\n",
       "      <td>37.6</td>\n",
       "      <td>0.191</td>\n",
       "      <td>30</td>\n",
       "    </tr>\n",
       "    <tr>\n",
       "      <th>11</th>\n",
       "      <td>10</td>\n",
       "      <td>168</td>\n",
       "      <td>74</td>\n",
       "      <td>0</td>\n",
       "      <td>0</td>\n",
       "      <td>38.0</td>\n",
       "      <td>0.537</td>\n",
       "      <td>34</td>\n",
       "    </tr>\n",
       "    <tr>\n",
       "      <th>12</th>\n",
       "      <td>10</td>\n",
       "      <td>139</td>\n",
       "      <td>80</td>\n",
       "      <td>0</td>\n",
       "      <td>0</td>\n",
       "      <td>27.1</td>\n",
       "      <td>1.441</td>\n",
       "      <td>57</td>\n",
       "    </tr>\n",
       "    <tr>\n",
       "      <th>13</th>\n",
       "      <td>1</td>\n",
       "      <td>189</td>\n",
       "      <td>60</td>\n",
       "      <td>23</td>\n",
       "      <td>846</td>\n",
       "      <td>30.1</td>\n",
       "      <td>0.398</td>\n",
       "      <td>59</td>\n",
       "    </tr>\n",
       "    <tr>\n",
       "      <th>14</th>\n",
       "      <td>5</td>\n",
       "      <td>166</td>\n",
       "      <td>72</td>\n",
       "      <td>19</td>\n",
       "      <td>175</td>\n",
       "      <td>25.8</td>\n",
       "      <td>0.587</td>\n",
       "      <td>51</td>\n",
       "    </tr>\n",
       "    <tr>\n",
       "      <th>15</th>\n",
       "      <td>7</td>\n",
       "      <td>100</td>\n",
       "      <td>0</td>\n",
       "      <td>0</td>\n",
       "      <td>0</td>\n",
       "      <td>30.0</td>\n",
       "      <td>0.484</td>\n",
       "      <td>32</td>\n",
       "    </tr>\n",
       "    <tr>\n",
       "      <th>16</th>\n",
       "      <td>0</td>\n",
       "      <td>118</td>\n",
       "      <td>84</td>\n",
       "      <td>47</td>\n",
       "      <td>230</td>\n",
       "      <td>45.8</td>\n",
       "      <td>0.551</td>\n",
       "      <td>31</td>\n",
       "    </tr>\n",
       "    <tr>\n",
       "      <th>17</th>\n",
       "      <td>7</td>\n",
       "      <td>107</td>\n",
       "      <td>74</td>\n",
       "      <td>0</td>\n",
       "      <td>0</td>\n",
       "      <td>29.6</td>\n",
       "      <td>0.254</td>\n",
       "      <td>31</td>\n",
       "    </tr>\n",
       "    <tr>\n",
       "      <th>18</th>\n",
       "      <td>1</td>\n",
       "      <td>103</td>\n",
       "      <td>30</td>\n",
       "      <td>38</td>\n",
       "      <td>83</td>\n",
       "      <td>43.3</td>\n",
       "      <td>0.183</td>\n",
       "      <td>33</td>\n",
       "    </tr>\n",
       "    <tr>\n",
       "      <th>19</th>\n",
       "      <td>1</td>\n",
       "      <td>115</td>\n",
       "      <td>70</td>\n",
       "      <td>30</td>\n",
       "      <td>96</td>\n",
       "      <td>34.6</td>\n",
       "      <td>0.529</td>\n",
       "      <td>32</td>\n",
       "    </tr>\n",
       "    <tr>\n",
       "      <th>20</th>\n",
       "      <td>3</td>\n",
       "      <td>126</td>\n",
       "      <td>88</td>\n",
       "      <td>41</td>\n",
       "      <td>235</td>\n",
       "      <td>39.3</td>\n",
       "      <td>0.704</td>\n",
       "      <td>27</td>\n",
       "    </tr>\n",
       "    <tr>\n",
       "      <th>21</th>\n",
       "      <td>8</td>\n",
       "      <td>99</td>\n",
       "      <td>84</td>\n",
       "      <td>0</td>\n",
       "      <td>0</td>\n",
       "      <td>35.4</td>\n",
       "      <td>0.388</td>\n",
       "      <td>50</td>\n",
       "    </tr>\n",
       "    <tr>\n",
       "      <th>22</th>\n",
       "      <td>7</td>\n",
       "      <td>196</td>\n",
       "      <td>90</td>\n",
       "      <td>0</td>\n",
       "      <td>0</td>\n",
       "      <td>39.8</td>\n",
       "      <td>0.451</td>\n",
       "      <td>41</td>\n",
       "    </tr>\n",
       "    <tr>\n",
       "      <th>23</th>\n",
       "      <td>9</td>\n",
       "      <td>119</td>\n",
       "      <td>80</td>\n",
       "      <td>35</td>\n",
       "      <td>0</td>\n",
       "      <td>29.0</td>\n",
       "      <td>0.263</td>\n",
       "      <td>29</td>\n",
       "    </tr>\n",
       "    <tr>\n",
       "      <th>24</th>\n",
       "      <td>11</td>\n",
       "      <td>143</td>\n",
       "      <td>94</td>\n",
       "      <td>33</td>\n",
       "      <td>146</td>\n",
       "      <td>36.6</td>\n",
       "      <td>0.254</td>\n",
       "      <td>51</td>\n",
       "    </tr>\n",
       "    <tr>\n",
       "      <th>25</th>\n",
       "      <td>10</td>\n",
       "      <td>125</td>\n",
       "      <td>70</td>\n",
       "      <td>26</td>\n",
       "      <td>115</td>\n",
       "      <td>31.1</td>\n",
       "      <td>0.205</td>\n",
       "      <td>41</td>\n",
       "    </tr>\n",
       "    <tr>\n",
       "      <th>26</th>\n",
       "      <td>7</td>\n",
       "      <td>147</td>\n",
       "      <td>76</td>\n",
       "      <td>0</td>\n",
       "      <td>0</td>\n",
       "      <td>39.4</td>\n",
       "      <td>0.257</td>\n",
       "      <td>43</td>\n",
       "    </tr>\n",
       "    <tr>\n",
       "      <th>27</th>\n",
       "      <td>1</td>\n",
       "      <td>97</td>\n",
       "      <td>66</td>\n",
       "      <td>15</td>\n",
       "      <td>140</td>\n",
       "      <td>23.2</td>\n",
       "      <td>0.487</td>\n",
       "      <td>22</td>\n",
       "    </tr>\n",
       "    <tr>\n",
       "      <th>28</th>\n",
       "      <td>13</td>\n",
       "      <td>145</td>\n",
       "      <td>82</td>\n",
       "      <td>19</td>\n",
       "      <td>110</td>\n",
       "      <td>22.2</td>\n",
       "      <td>0.245</td>\n",
       "      <td>57</td>\n",
       "    </tr>\n",
       "    <tr>\n",
       "      <th>29</th>\n",
       "      <td>5</td>\n",
       "      <td>117</td>\n",
       "      <td>92</td>\n",
       "      <td>0</td>\n",
       "      <td>0</td>\n",
       "      <td>34.1</td>\n",
       "      <td>0.337</td>\n",
       "      <td>38</td>\n",
       "    </tr>\n",
       "    <tr>\n",
       "      <th>...</th>\n",
       "      <td>...</td>\n",
       "      <td>...</td>\n",
       "      <td>...</td>\n",
       "      <td>...</td>\n",
       "      <td>...</td>\n",
       "      <td>...</td>\n",
       "      <td>...</td>\n",
       "      <td>...</td>\n",
       "    </tr>\n",
       "    <tr>\n",
       "      <th>738</th>\n",
       "      <td>2</td>\n",
       "      <td>99</td>\n",
       "      <td>60</td>\n",
       "      <td>17</td>\n",
       "      <td>160</td>\n",
       "      <td>36.6</td>\n",
       "      <td>0.453</td>\n",
       "      <td>21</td>\n",
       "    </tr>\n",
       "    <tr>\n",
       "      <th>739</th>\n",
       "      <td>1</td>\n",
       "      <td>102</td>\n",
       "      <td>74</td>\n",
       "      <td>0</td>\n",
       "      <td>0</td>\n",
       "      <td>39.5</td>\n",
       "      <td>0.293</td>\n",
       "      <td>42</td>\n",
       "    </tr>\n",
       "    <tr>\n",
       "      <th>740</th>\n",
       "      <td>11</td>\n",
       "      <td>120</td>\n",
       "      <td>80</td>\n",
       "      <td>37</td>\n",
       "      <td>150</td>\n",
       "      <td>42.3</td>\n",
       "      <td>0.785</td>\n",
       "      <td>48</td>\n",
       "    </tr>\n",
       "    <tr>\n",
       "      <th>741</th>\n",
       "      <td>3</td>\n",
       "      <td>102</td>\n",
       "      <td>44</td>\n",
       "      <td>20</td>\n",
       "      <td>94</td>\n",
       "      <td>30.8</td>\n",
       "      <td>0.400</td>\n",
       "      <td>26</td>\n",
       "    </tr>\n",
       "    <tr>\n",
       "      <th>742</th>\n",
       "      <td>1</td>\n",
       "      <td>109</td>\n",
       "      <td>58</td>\n",
       "      <td>18</td>\n",
       "      <td>116</td>\n",
       "      <td>28.5</td>\n",
       "      <td>0.219</td>\n",
       "      <td>22</td>\n",
       "    </tr>\n",
       "    <tr>\n",
       "      <th>743</th>\n",
       "      <td>9</td>\n",
       "      <td>140</td>\n",
       "      <td>94</td>\n",
       "      <td>0</td>\n",
       "      <td>0</td>\n",
       "      <td>32.7</td>\n",
       "      <td>0.734</td>\n",
       "      <td>45</td>\n",
       "    </tr>\n",
       "    <tr>\n",
       "      <th>744</th>\n",
       "      <td>13</td>\n",
       "      <td>153</td>\n",
       "      <td>88</td>\n",
       "      <td>37</td>\n",
       "      <td>140</td>\n",
       "      <td>40.6</td>\n",
       "      <td>1.174</td>\n",
       "      <td>39</td>\n",
       "    </tr>\n",
       "    <tr>\n",
       "      <th>745</th>\n",
       "      <td>12</td>\n",
       "      <td>100</td>\n",
       "      <td>84</td>\n",
       "      <td>33</td>\n",
       "      <td>105</td>\n",
       "      <td>30.0</td>\n",
       "      <td>0.488</td>\n",
       "      <td>46</td>\n",
       "    </tr>\n",
       "    <tr>\n",
       "      <th>746</th>\n",
       "      <td>1</td>\n",
       "      <td>147</td>\n",
       "      <td>94</td>\n",
       "      <td>41</td>\n",
       "      <td>0</td>\n",
       "      <td>49.3</td>\n",
       "      <td>0.358</td>\n",
       "      <td>27</td>\n",
       "    </tr>\n",
       "    <tr>\n",
       "      <th>747</th>\n",
       "      <td>1</td>\n",
       "      <td>81</td>\n",
       "      <td>74</td>\n",
       "      <td>41</td>\n",
       "      <td>57</td>\n",
       "      <td>46.3</td>\n",
       "      <td>1.096</td>\n",
       "      <td>32</td>\n",
       "    </tr>\n",
       "    <tr>\n",
       "      <th>748</th>\n",
       "      <td>3</td>\n",
       "      <td>187</td>\n",
       "      <td>70</td>\n",
       "      <td>22</td>\n",
       "      <td>200</td>\n",
       "      <td>36.4</td>\n",
       "      <td>0.408</td>\n",
       "      <td>36</td>\n",
       "    </tr>\n",
       "    <tr>\n",
       "      <th>749</th>\n",
       "      <td>6</td>\n",
       "      <td>162</td>\n",
       "      <td>62</td>\n",
       "      <td>0</td>\n",
       "      <td>0</td>\n",
       "      <td>24.3</td>\n",
       "      <td>0.178</td>\n",
       "      <td>50</td>\n",
       "    </tr>\n",
       "    <tr>\n",
       "      <th>750</th>\n",
       "      <td>4</td>\n",
       "      <td>136</td>\n",
       "      <td>70</td>\n",
       "      <td>0</td>\n",
       "      <td>0</td>\n",
       "      <td>31.2</td>\n",
       "      <td>1.182</td>\n",
       "      <td>22</td>\n",
       "    </tr>\n",
       "    <tr>\n",
       "      <th>751</th>\n",
       "      <td>1</td>\n",
       "      <td>121</td>\n",
       "      <td>78</td>\n",
       "      <td>39</td>\n",
       "      <td>74</td>\n",
       "      <td>39.0</td>\n",
       "      <td>0.261</td>\n",
       "      <td>28</td>\n",
       "    </tr>\n",
       "    <tr>\n",
       "      <th>752</th>\n",
       "      <td>3</td>\n",
       "      <td>108</td>\n",
       "      <td>62</td>\n",
       "      <td>24</td>\n",
       "      <td>0</td>\n",
       "      <td>26.0</td>\n",
       "      <td>0.223</td>\n",
       "      <td>25</td>\n",
       "    </tr>\n",
       "    <tr>\n",
       "      <th>753</th>\n",
       "      <td>0</td>\n",
       "      <td>181</td>\n",
       "      <td>88</td>\n",
       "      <td>44</td>\n",
       "      <td>510</td>\n",
       "      <td>43.3</td>\n",
       "      <td>0.222</td>\n",
       "      <td>26</td>\n",
       "    </tr>\n",
       "    <tr>\n",
       "      <th>754</th>\n",
       "      <td>8</td>\n",
       "      <td>154</td>\n",
       "      <td>78</td>\n",
       "      <td>32</td>\n",
       "      <td>0</td>\n",
       "      <td>32.4</td>\n",
       "      <td>0.443</td>\n",
       "      <td>45</td>\n",
       "    </tr>\n",
       "    <tr>\n",
       "      <th>755</th>\n",
       "      <td>1</td>\n",
       "      <td>128</td>\n",
       "      <td>88</td>\n",
       "      <td>39</td>\n",
       "      <td>110</td>\n",
       "      <td>36.5</td>\n",
       "      <td>1.057</td>\n",
       "      <td>37</td>\n",
       "    </tr>\n",
       "    <tr>\n",
       "      <th>756</th>\n",
       "      <td>7</td>\n",
       "      <td>137</td>\n",
       "      <td>90</td>\n",
       "      <td>41</td>\n",
       "      <td>0</td>\n",
       "      <td>32.0</td>\n",
       "      <td>0.391</td>\n",
       "      <td>39</td>\n",
       "    </tr>\n",
       "    <tr>\n",
       "      <th>757</th>\n",
       "      <td>0</td>\n",
       "      <td>123</td>\n",
       "      <td>72</td>\n",
       "      <td>0</td>\n",
       "      <td>0</td>\n",
       "      <td>36.3</td>\n",
       "      <td>0.258</td>\n",
       "      <td>52</td>\n",
       "    </tr>\n",
       "    <tr>\n",
       "      <th>758</th>\n",
       "      <td>1</td>\n",
       "      <td>106</td>\n",
       "      <td>76</td>\n",
       "      <td>0</td>\n",
       "      <td>0</td>\n",
       "      <td>37.5</td>\n",
       "      <td>0.197</td>\n",
       "      <td>26</td>\n",
       "    </tr>\n",
       "    <tr>\n",
       "      <th>759</th>\n",
       "      <td>6</td>\n",
       "      <td>190</td>\n",
       "      <td>92</td>\n",
       "      <td>0</td>\n",
       "      <td>0</td>\n",
       "      <td>35.5</td>\n",
       "      <td>0.278</td>\n",
       "      <td>66</td>\n",
       "    </tr>\n",
       "    <tr>\n",
       "      <th>760</th>\n",
       "      <td>2</td>\n",
       "      <td>88</td>\n",
       "      <td>58</td>\n",
       "      <td>26</td>\n",
       "      <td>16</td>\n",
       "      <td>28.4</td>\n",
       "      <td>0.766</td>\n",
       "      <td>22</td>\n",
       "    </tr>\n",
       "    <tr>\n",
       "      <th>761</th>\n",
       "      <td>9</td>\n",
       "      <td>170</td>\n",
       "      <td>74</td>\n",
       "      <td>31</td>\n",
       "      <td>0</td>\n",
       "      <td>44.0</td>\n",
       "      <td>0.403</td>\n",
       "      <td>43</td>\n",
       "    </tr>\n",
       "    <tr>\n",
       "      <th>762</th>\n",
       "      <td>9</td>\n",
       "      <td>89</td>\n",
       "      <td>62</td>\n",
       "      <td>0</td>\n",
       "      <td>0</td>\n",
       "      <td>22.5</td>\n",
       "      <td>0.142</td>\n",
       "      <td>33</td>\n",
       "    </tr>\n",
       "    <tr>\n",
       "      <th>763</th>\n",
       "      <td>10</td>\n",
       "      <td>101</td>\n",
       "      <td>76</td>\n",
       "      <td>48</td>\n",
       "      <td>180</td>\n",
       "      <td>32.9</td>\n",
       "      <td>0.171</td>\n",
       "      <td>63</td>\n",
       "    </tr>\n",
       "    <tr>\n",
       "      <th>764</th>\n",
       "      <td>2</td>\n",
       "      <td>122</td>\n",
       "      <td>70</td>\n",
       "      <td>27</td>\n",
       "      <td>0</td>\n",
       "      <td>36.8</td>\n",
       "      <td>0.340</td>\n",
       "      <td>27</td>\n",
       "    </tr>\n",
       "    <tr>\n",
       "      <th>765</th>\n",
       "      <td>5</td>\n",
       "      <td>121</td>\n",
       "      <td>72</td>\n",
       "      <td>23</td>\n",
       "      <td>112</td>\n",
       "      <td>26.2</td>\n",
       "      <td>0.245</td>\n",
       "      <td>30</td>\n",
       "    </tr>\n",
       "    <tr>\n",
       "      <th>766</th>\n",
       "      <td>1</td>\n",
       "      <td>126</td>\n",
       "      <td>60</td>\n",
       "      <td>0</td>\n",
       "      <td>0</td>\n",
       "      <td>30.1</td>\n",
       "      <td>0.349</td>\n",
       "      <td>47</td>\n",
       "    </tr>\n",
       "    <tr>\n",
       "      <th>767</th>\n",
       "      <td>1</td>\n",
       "      <td>93</td>\n",
       "      <td>70</td>\n",
       "      <td>31</td>\n",
       "      <td>0</td>\n",
       "      <td>30.4</td>\n",
       "      <td>0.315</td>\n",
       "      <td>23</td>\n",
       "    </tr>\n",
       "  </tbody>\n",
       "</table>\n",
       "<p>768 rows × 8 columns</p>\n",
       "</div>"
      ],
      "text/plain": [
       "     Pregnancies  Glucose  BloodPressure  SkinThickness  Insulin   BMI  \\\n",
       "0              6      148             72             35        0  33.6   \n",
       "1              1       85             66             29        0  26.6   \n",
       "2              8      183             64              0        0  23.3   \n",
       "3              1       89             66             23       94  28.1   \n",
       "4              0      137             40             35      168  43.1   \n",
       "5              5      116             74              0        0  25.6   \n",
       "6              3       78             50             32       88  31.0   \n",
       "7             10      115              0              0        0  35.3   \n",
       "8              2      197             70             45      543  30.5   \n",
       "9              8      125             96              0        0   0.0   \n",
       "10             4      110             92              0        0  37.6   \n",
       "11            10      168             74              0        0  38.0   \n",
       "12            10      139             80              0        0  27.1   \n",
       "13             1      189             60             23      846  30.1   \n",
       "14             5      166             72             19      175  25.8   \n",
       "15             7      100              0              0        0  30.0   \n",
       "16             0      118             84             47      230  45.8   \n",
       "17             7      107             74              0        0  29.6   \n",
       "18             1      103             30             38       83  43.3   \n",
       "19             1      115             70             30       96  34.6   \n",
       "20             3      126             88             41      235  39.3   \n",
       "21             8       99             84              0        0  35.4   \n",
       "22             7      196             90              0        0  39.8   \n",
       "23             9      119             80             35        0  29.0   \n",
       "24            11      143             94             33      146  36.6   \n",
       "25            10      125             70             26      115  31.1   \n",
       "26             7      147             76              0        0  39.4   \n",
       "27             1       97             66             15      140  23.2   \n",
       "28            13      145             82             19      110  22.2   \n",
       "29             5      117             92              0        0  34.1   \n",
       "..           ...      ...            ...            ...      ...   ...   \n",
       "738            2       99             60             17      160  36.6   \n",
       "739            1      102             74              0        0  39.5   \n",
       "740           11      120             80             37      150  42.3   \n",
       "741            3      102             44             20       94  30.8   \n",
       "742            1      109             58             18      116  28.5   \n",
       "743            9      140             94              0        0  32.7   \n",
       "744           13      153             88             37      140  40.6   \n",
       "745           12      100             84             33      105  30.0   \n",
       "746            1      147             94             41        0  49.3   \n",
       "747            1       81             74             41       57  46.3   \n",
       "748            3      187             70             22      200  36.4   \n",
       "749            6      162             62              0        0  24.3   \n",
       "750            4      136             70              0        0  31.2   \n",
       "751            1      121             78             39       74  39.0   \n",
       "752            3      108             62             24        0  26.0   \n",
       "753            0      181             88             44      510  43.3   \n",
       "754            8      154             78             32        0  32.4   \n",
       "755            1      128             88             39      110  36.5   \n",
       "756            7      137             90             41        0  32.0   \n",
       "757            0      123             72              0        0  36.3   \n",
       "758            1      106             76              0        0  37.5   \n",
       "759            6      190             92              0        0  35.5   \n",
       "760            2       88             58             26       16  28.4   \n",
       "761            9      170             74             31        0  44.0   \n",
       "762            9       89             62              0        0  22.5   \n",
       "763           10      101             76             48      180  32.9   \n",
       "764            2      122             70             27        0  36.8   \n",
       "765            5      121             72             23      112  26.2   \n",
       "766            1      126             60              0        0  30.1   \n",
       "767            1       93             70             31        0  30.4   \n",
       "\n",
       "     DiabetesPedigreeFunction  Age  \n",
       "0                       0.627   50  \n",
       "1                       0.351   31  \n",
       "2                       0.672   32  \n",
       "3                       0.167   21  \n",
       "4                       2.288   33  \n",
       "5                       0.201   30  \n",
       "6                       0.248   26  \n",
       "7                       0.134   29  \n",
       "8                       0.158   53  \n",
       "9                       0.232   54  \n",
       "10                      0.191   30  \n",
       "11                      0.537   34  \n",
       "12                      1.441   57  \n",
       "13                      0.398   59  \n",
       "14                      0.587   51  \n",
       "15                      0.484   32  \n",
       "16                      0.551   31  \n",
       "17                      0.254   31  \n",
       "18                      0.183   33  \n",
       "19                      0.529   32  \n",
       "20                      0.704   27  \n",
       "21                      0.388   50  \n",
       "22                      0.451   41  \n",
       "23                      0.263   29  \n",
       "24                      0.254   51  \n",
       "25                      0.205   41  \n",
       "26                      0.257   43  \n",
       "27                      0.487   22  \n",
       "28                      0.245   57  \n",
       "29                      0.337   38  \n",
       "..                        ...  ...  \n",
       "738                     0.453   21  \n",
       "739                     0.293   42  \n",
       "740                     0.785   48  \n",
       "741                     0.400   26  \n",
       "742                     0.219   22  \n",
       "743                     0.734   45  \n",
       "744                     1.174   39  \n",
       "745                     0.488   46  \n",
       "746                     0.358   27  \n",
       "747                     1.096   32  \n",
       "748                     0.408   36  \n",
       "749                     0.178   50  \n",
       "750                     1.182   22  \n",
       "751                     0.261   28  \n",
       "752                     0.223   25  \n",
       "753                     0.222   26  \n",
       "754                     0.443   45  \n",
       "755                     1.057   37  \n",
       "756                     0.391   39  \n",
       "757                     0.258   52  \n",
       "758                     0.197   26  \n",
       "759                     0.278   66  \n",
       "760                     0.766   22  \n",
       "761                     0.403   43  \n",
       "762                     0.142   33  \n",
       "763                     0.171   63  \n",
       "764                     0.340   27  \n",
       "765                     0.245   30  \n",
       "766                     0.349   47  \n",
       "767                     0.315   23  \n",
       "\n",
       "[768 rows x 8 columns]"
      ]
     },
     "execution_count": 6,
     "metadata": {},
     "output_type": "execute_result"
    }
   ],
   "source": [
    "x"
   ]
  },
  {
   "cell_type": "code",
   "execution_count": 7,
   "metadata": {},
   "outputs": [
    {
     "data": {
      "text/plain": [
       "pandas.core.frame.DataFrame"
      ]
     },
     "execution_count": 7,
     "metadata": {},
     "output_type": "execute_result"
    }
   ],
   "source": [
    "type(x)"
   ]
  },
  {
   "cell_type": "code",
   "execution_count": 8,
   "metadata": {},
   "outputs": [
    {
     "data": {
      "text/plain": [
       "0      1\n",
       "1      0\n",
       "2      1\n",
       "3      0\n",
       "4      1\n",
       "5      0\n",
       "6      1\n",
       "7      0\n",
       "8      1\n",
       "9      1\n",
       "10     0\n",
       "11     1\n",
       "12     0\n",
       "13     1\n",
       "14     1\n",
       "15     1\n",
       "16     1\n",
       "17     1\n",
       "18     0\n",
       "19     1\n",
       "20     0\n",
       "21     0\n",
       "22     1\n",
       "23     1\n",
       "24     1\n",
       "25     1\n",
       "26     1\n",
       "27     0\n",
       "28     0\n",
       "29     0\n",
       "      ..\n",
       "738    0\n",
       "739    1\n",
       "740    1\n",
       "741    0\n",
       "742    0\n",
       "743    1\n",
       "744    0\n",
       "745    0\n",
       "746    1\n",
       "747    0\n",
       "748    1\n",
       "749    1\n",
       "750    1\n",
       "751    0\n",
       "752    0\n",
       "753    1\n",
       "754    1\n",
       "755    1\n",
       "756    0\n",
       "757    1\n",
       "758    0\n",
       "759    1\n",
       "760    0\n",
       "761    1\n",
       "762    0\n",
       "763    0\n",
       "764    0\n",
       "765    0\n",
       "766    1\n",
       "767    0\n",
       "Name: Outcome, Length: 768, dtype: int64"
      ]
     },
     "execution_count": 8,
     "metadata": {},
     "output_type": "execute_result"
    }
   ],
   "source": [
    "y"
   ]
  },
  {
   "cell_type": "code",
   "execution_count": 9,
   "metadata": {},
   "outputs": [
    {
     "data": {
      "text/plain": [
       "pandas.core.series.Series"
      ]
     },
     "execution_count": 9,
     "metadata": {},
     "output_type": "execute_result"
    }
   ],
   "source": [
    "type(y)"
   ]
  },
  {
   "cell_type": "code",
   "execution_count": 10,
   "metadata": {},
   "outputs": [],
   "source": [
    "x=dataset.iloc[:,:8].values\n",
    "y=dataset.iloc[:,8].values"
   ]
  },
  {
   "cell_type": "code",
   "execution_count": 11,
   "metadata": {},
   "outputs": [
    {
     "data": {
      "text/plain": [
       "array([[   6.   ,  148.   ,   72.   , ...,   33.6  ,    0.627,   50.   ],\n",
       "       [   1.   ,   85.   ,   66.   , ...,   26.6  ,    0.351,   31.   ],\n",
       "       [   8.   ,  183.   ,   64.   , ...,   23.3  ,    0.672,   32.   ],\n",
       "       ..., \n",
       "       [   5.   ,  121.   ,   72.   , ...,   26.2  ,    0.245,   30.   ],\n",
       "       [   1.   ,  126.   ,   60.   , ...,   30.1  ,    0.349,   47.   ],\n",
       "       [   1.   ,   93.   ,   70.   , ...,   30.4  ,    0.315,   23.   ]])"
      ]
     },
     "execution_count": 11,
     "metadata": {},
     "output_type": "execute_result"
    }
   ],
   "source": [
    "x"
   ]
  },
  {
   "cell_type": "code",
   "execution_count": 12,
   "metadata": {},
   "outputs": [
    {
     "data": {
      "text/plain": [
       "array([1, 0, 1, 0, 1, 0, 1, 0, 1, 1, 0, 1, 0, 1, 1, 1, 1, 1, 0, 1, 0, 0, 1,\n",
       "       1, 1, 1, 1, 0, 0, 0, 0, 1, 0, 0, 0, 0, 0, 1, 1, 1, 0, 0, 0, 1, 0, 1,\n",
       "       0, 0, 1, 0, 0, 0, 0, 1, 0, 0, 1, 0, 0, 0, 0, 1, 0, 0, 1, 0, 1, 0, 0,\n",
       "       0, 1, 0, 1, 0, 0, 0, 0, 0, 1, 0, 0, 0, 0, 0, 1, 0, 0, 0, 1, 0, 0, 0,\n",
       "       0, 1, 0, 0, 0, 0, 0, 1, 1, 0, 0, 0, 0, 0, 0, 0, 0, 1, 1, 1, 0, 0, 1,\n",
       "       1, 1, 0, 0, 0, 1, 0, 0, 0, 1, 1, 0, 0, 1, 1, 1, 1, 1, 0, 0, 0, 0, 0,\n",
       "       0, 0, 0, 0, 0, 1, 0, 0, 0, 0, 0, 0, 0, 0, 1, 0, 1, 1, 0, 0, 0, 1, 0,\n",
       "       0, 0, 0, 1, 1, 0, 0, 0, 0, 1, 1, 0, 0, 0, 1, 0, 1, 0, 1, 0, 0, 0, 0,\n",
       "       0, 1, 1, 1, 1, 1, 0, 0, 1, 1, 0, 1, 0, 1, 1, 1, 0, 0, 0, 0, 0, 0, 1,\n",
       "       1, 0, 1, 0, 0, 0, 1, 1, 1, 1, 0, 1, 1, 1, 1, 0, 0, 0, 0, 0, 1, 0, 0,\n",
       "       1, 1, 0, 0, 0, 1, 1, 1, 1, 0, 0, 0, 1, 1, 0, 1, 0, 0, 0, 0, 0, 0, 0,\n",
       "       0, 1, 1, 0, 0, 0, 1, 0, 1, 0, 0, 1, 0, 1, 0, 0, 1, 1, 0, 0, 0, 0, 0,\n",
       "       1, 0, 0, 0, 1, 0, 0, 1, 1, 0, 0, 1, 0, 0, 0, 1, 1, 1, 0, 0, 1, 0, 1,\n",
       "       0, 1, 1, 0, 1, 0, 0, 1, 0, 1, 1, 0, 0, 1, 0, 1, 0, 0, 1, 0, 1, 0, 1,\n",
       "       1, 1, 0, 0, 1, 0, 1, 0, 0, 0, 1, 0, 0, 0, 0, 1, 1, 1, 0, 0, 0, 0, 0,\n",
       "       0, 0, 0, 0, 1, 0, 0, 0, 0, 0, 1, 1, 1, 0, 1, 1, 0, 0, 1, 0, 0, 1, 0,\n",
       "       0, 1, 1, 0, 0, 0, 0, 1, 0, 0, 1, 0, 0, 0, 0, 0, 0, 0, 1, 1, 1, 0, 0,\n",
       "       1, 0, 0, 1, 0, 0, 1, 0, 1, 1, 0, 1, 0, 1, 0, 1, 0, 1, 1, 0, 0, 0, 0,\n",
       "       1, 1, 0, 1, 0, 1, 0, 0, 0, 0, 1, 1, 0, 1, 0, 1, 0, 0, 0, 0, 0, 1, 0,\n",
       "       0, 0, 0, 1, 0, 0, 1, 1, 1, 0, 0, 1, 0, 0, 1, 0, 0, 0, 1, 0, 0, 1, 0,\n",
       "       0, 0, 0, 0, 0, 0, 0, 0, 1, 0, 0, 0, 0, 0, 0, 0, 1, 0, 0, 0, 1, 0, 0,\n",
       "       0, 1, 1, 0, 0, 0, 0, 0, 0, 0, 1, 0, 0, 0, 0, 1, 0, 0, 0, 1, 0, 0, 0,\n",
       "       1, 0, 0, 0, 1, 0, 0, 0, 0, 1, 1, 0, 0, 0, 0, 0, 0, 1, 0, 0, 0, 0, 0,\n",
       "       0, 0, 0, 0, 0, 0, 1, 0, 0, 0, 1, 1, 1, 1, 0, 0, 1, 1, 0, 0, 0, 0, 0,\n",
       "       0, 0, 0, 0, 0, 0, 0, 0, 1, 1, 0, 0, 0, 0, 0, 0, 0, 1, 0, 0, 0, 0, 0,\n",
       "       0, 0, 1, 0, 1, 1, 0, 0, 0, 1, 0, 1, 0, 1, 0, 1, 0, 1, 0, 0, 1, 0, 0,\n",
       "       1, 0, 0, 0, 0, 1, 1, 0, 1, 0, 0, 0, 0, 1, 1, 0, 1, 0, 0, 0, 1, 1, 0,\n",
       "       0, 0, 0, 0, 0, 0, 0, 0, 0, 1, 0, 0, 0, 0, 1, 0, 0, 1, 0, 0, 0, 1, 0,\n",
       "       0, 0, 1, 1, 1, 0, 0, 0, 0, 0, 0, 1, 0, 0, 0, 1, 0, 1, 1, 1, 1, 0, 1,\n",
       "       1, 0, 0, 0, 0, 0, 0, 0, 1, 1, 0, 1, 0, 0, 1, 0, 1, 0, 0, 0, 0, 0, 1,\n",
       "       0, 1, 0, 1, 0, 1, 1, 0, 0, 0, 0, 1, 1, 0, 0, 0, 1, 0, 1, 1, 0, 0, 1,\n",
       "       0, 0, 1, 1, 0, 0, 1, 0, 0, 1, 0, 0, 0, 0, 0, 0, 0, 1, 1, 1, 0, 0, 0,\n",
       "       0, 0, 0, 1, 1, 0, 0, 1, 0, 0, 1, 0, 1, 1, 1, 0, 0, 1, 1, 1, 0, 1, 0,\n",
       "       1, 0, 1, 0, 0, 0, 0, 1, 0])"
      ]
     },
     "execution_count": 12,
     "metadata": {},
     "output_type": "execute_result"
    }
   ],
   "source": [
    "y"
   ]
  },
  {
   "cell_type": "code",
   "execution_count": 13,
   "metadata": {},
   "outputs": [],
   "source": [
    "from sklearn.model_selection import train_test_split\n",
    "x_train,x_test,y_train,y_test = train_test_split(x,y,test_size=0.3,random_state=0)"
   ]
  },
  {
   "cell_type": "code",
   "execution_count": 14,
   "metadata": {},
   "outputs": [
    {
     "data": {
      "text/plain": [
       "array([[  0.00000000e+00,   1.51000000e+02,   9.00000000e+01, ...,\n",
       "          4.21000000e+01,   3.71000000e-01,   2.10000000e+01],\n",
       "       [  1.00000000e+00,   8.30000000e+01,   6.80000000e+01, ...,\n",
       "          1.82000000e+01,   6.24000000e-01,   2.70000000e+01],\n",
       "       [  2.00000000e+00,   1.22000000e+02,   7.00000000e+01, ...,\n",
       "          3.68000000e+01,   3.40000000e-01,   2.70000000e+01],\n",
       "       ..., \n",
       "       [  4.00000000e+00,   9.40000000e+01,   6.50000000e+01, ...,\n",
       "          2.47000000e+01,   1.48000000e-01,   2.10000000e+01],\n",
       "       [  1.10000000e+01,   8.50000000e+01,   7.40000000e+01, ...,\n",
       "          3.01000000e+01,   3.00000000e-01,   3.50000000e+01],\n",
       "       [  5.00000000e+00,   1.36000000e+02,   8.20000000e+01, ...,\n",
       "          0.00000000e+00,   6.40000000e-01,   6.90000000e+01]])"
      ]
     },
     "execution_count": 14,
     "metadata": {},
     "output_type": "execute_result"
    }
   ],
   "source": [
    "x_train"
   ]
  },
  {
   "cell_type": "code",
   "execution_count": 15,
   "metadata": {},
   "outputs": [
    {
     "data": {
      "text/plain": [
       "(537, 8)"
      ]
     },
     "execution_count": 15,
     "metadata": {},
     "output_type": "execute_result"
    }
   ],
   "source": [
    "x_train.shape"
   ]
  },
  {
   "cell_type": "code",
   "execution_count": 16,
   "metadata": {},
   "outputs": [
    {
     "data": {
      "text/plain": [
       "array([[  1.00000000e+00,   1.99000000e+02,   7.60000000e+01, ...,\n",
       "          4.29000000e+01,   1.39400000e+00,   2.20000000e+01],\n",
       "       [  2.00000000e+00,   1.07000000e+02,   7.40000000e+01, ...,\n",
       "          3.36000000e+01,   4.04000000e-01,   2.30000000e+01],\n",
       "       [  4.00000000e+00,   7.60000000e+01,   6.20000000e+01, ...,\n",
       "          3.40000000e+01,   3.91000000e-01,   2.50000000e+01],\n",
       "       ..., \n",
       "       [  1.00000000e+00,   9.50000000e+01,   6.00000000e+01, ...,\n",
       "          2.39000000e+01,   2.60000000e-01,   2.20000000e+01],\n",
       "       [  1.00000000e+00,   1.06000000e+02,   7.60000000e+01, ...,\n",
       "          3.75000000e+01,   1.97000000e-01,   2.60000000e+01],\n",
       "       [  1.00000000e+01,   1.22000000e+02,   7.80000000e+01, ...,\n",
       "          2.76000000e+01,   5.12000000e-01,   4.50000000e+01]])"
      ]
     },
     "execution_count": 16,
     "metadata": {},
     "output_type": "execute_result"
    }
   ],
   "source": [
    "x_test"
   ]
  },
  {
   "cell_type": "code",
   "execution_count": 17,
   "metadata": {},
   "outputs": [
    {
     "data": {
      "text/plain": [
       "(231, 8)"
      ]
     },
     "execution_count": 17,
     "metadata": {},
     "output_type": "execute_result"
    }
   ],
   "source": [
    "x_test.shape"
   ]
  },
  {
   "cell_type": "code",
   "execution_count": 18,
   "metadata": {},
   "outputs": [
    {
     "data": {
      "text/plain": [
       "(768, 8)"
      ]
     },
     "execution_count": 18,
     "metadata": {},
     "output_type": "execute_result"
    }
   ],
   "source": [
    "x.shape"
   ]
  },
  {
   "cell_type": "code",
   "execution_count": 19,
   "metadata": {},
   "outputs": [
    {
     "data": {
      "text/plain": [
       "array([1, 0, 0, 1, 1, 0, 1, 0, 1, 0, 1, 0, 1, 0, 1, 0, 0, 0, 0, 0, 1, 0, 1,\n",
       "       0, 1, 0, 0, 0, 0, 0, 0, 0, 0, 1, 0, 1, 1, 1, 1, 0, 0, 0, 0, 1, 1, 0,\n",
       "       1, 0, 0, 1, 1, 0, 0, 0, 0, 0, 0, 0, 1, 1, 0, 0, 0, 0, 1, 1, 0, 0, 0,\n",
       "       0, 1, 0, 0, 1, 1, 0, 1, 1, 0, 0, 0, 0, 0, 0, 0, 0, 1, 0, 1, 0, 0, 0,\n",
       "       1, 0, 0, 0, 0, 0, 1, 1, 1, 1, 0, 0, 0, 0, 0, 1, 0, 0, 0, 0, 1, 1, 0,\n",
       "       0, 0, 1, 1, 1, 1, 0, 1, 0, 1, 1, 0, 0, 0, 1, 0, 0, 0, 1, 0, 1, 1, 0,\n",
       "       1, 1, 0, 0, 0, 0, 1, 1, 0, 0, 1, 1, 0, 0, 0, 0, 0, 1, 0, 1, 0, 0, 0,\n",
       "       1, 0, 1, 0, 1, 0, 1, 1, 1, 1, 0, 1, 1, 0, 0, 1, 1, 0, 0, 1, 1, 0, 0,\n",
       "       0, 1, 1, 0, 0, 1, 0, 1, 0, 0, 1, 0, 1, 0, 0, 0, 1, 0, 0, 0, 0, 0, 1,\n",
       "       0, 1, 0, 0, 1, 0, 0, 1, 0, 0, 0, 0, 0, 0, 0, 0, 0, 1, 1, 0, 1, 0, 1,\n",
       "       1, 1, 0, 1, 0, 0, 1, 1, 0, 0, 0, 1, 0, 0, 1, 0, 1, 0, 0, 0, 0, 1, 0,\n",
       "       0, 0, 1, 1, 0, 1, 0, 1, 1, 0, 1, 0, 1, 0, 0, 0, 1, 0, 1, 0, 1, 0, 0,\n",
       "       1, 1, 0, 0, 0, 0, 1, 0, 0, 1, 0, 1, 1, 0, 0, 1, 1, 0, 0, 0, 0, 1, 0,\n",
       "       0, 0, 0, 1, 0, 1, 0, 0, 0, 0, 1, 0, 0, 0, 1, 0, 0, 0, 1, 1, 0, 0, 0,\n",
       "       0, 0, 1, 0, 0, 1, 0, 1, 1, 0, 1, 0, 0, 0, 0, 1, 1, 0, 0, 0, 1, 0, 0,\n",
       "       0, 0, 1, 0, 1, 0, 0, 0, 1, 0, 1, 1, 1, 1, 0, 1, 0, 0, 0, 0, 0, 1, 0,\n",
       "       1, 0, 1, 0, 0, 0, 1, 1, 0, 0, 1, 1, 0, 1, 0, 0, 1, 0, 0, 1, 0, 0, 0,\n",
       "       0, 0, 1, 1, 1, 1, 0, 0, 1, 1, 0, 0, 0, 1, 0, 0, 0, 1, 0, 0, 0, 0, 0,\n",
       "       0, 1, 1, 0, 0, 0, 0, 0, 0, 1, 0, 0, 0, 0, 0, 0, 1, 1, 1, 0, 1, 0, 0,\n",
       "       0, 0, 0, 0, 1, 1, 0, 1, 1, 0, 0, 1, 0, 0, 0, 1, 0, 1, 0, 1, 0, 1, 0,\n",
       "       0, 0, 0, 1, 0, 0, 1, 0, 0, 0, 0, 0, 1, 0, 1, 0, 0, 0, 0, 0, 1, 0, 0,\n",
       "       0, 0, 1, 0, 1, 0, 0, 0, 1, 1, 0, 0, 0, 0, 0, 0, 0, 0, 0, 0, 0, 1, 1,\n",
       "       1, 1, 0, 1, 1, 1, 0, 0, 1, 0, 0, 0, 0, 0, 1, 0, 0, 0, 1, 0, 1, 0, 0,\n",
       "       1, 1, 0, 0, 1, 0, 0, 0])"
      ]
     },
     "execution_count": 19,
     "metadata": {},
     "output_type": "execute_result"
    }
   ],
   "source": [
    "y_train"
   ]
  },
  {
   "cell_type": "code",
   "execution_count": 20,
   "metadata": {},
   "outputs": [
    {
     "data": {
      "text/plain": [
       "(537,)"
      ]
     },
     "execution_count": 20,
     "metadata": {},
     "output_type": "execute_result"
    }
   ],
   "source": [
    "y_train.shape"
   ]
  },
  {
   "cell_type": "code",
   "execution_count": 21,
   "metadata": {},
   "outputs": [
    {
     "data": {
      "text/plain": [
       "array([1, 0, 0, 1, 0, 0, 1, 1, 0, 0, 1, 1, 0, 0, 0, 0, 1, 0, 0, 0, 1, 1, 0,\n",
       "       0, 0, 0, 0, 0, 0, 0, 0, 0, 0, 0, 0, 1, 1, 0, 0, 0, 0, 0, 0, 1, 1, 0,\n",
       "       0, 1, 1, 1, 0, 0, 1, 0, 0, 0, 0, 1, 1, 1, 1, 0, 0, 1, 1, 1, 1, 0, 0,\n",
       "       0, 0, 0, 0, 0, 1, 0, 0, 0, 0, 0, 0, 0, 0, 0, 0, 0, 1, 0, 1, 0, 0, 0,\n",
       "       0, 0, 0, 0, 1, 0, 1, 1, 0, 0, 0, 0, 0, 1, 0, 0, 0, 1, 0, 1, 1, 1, 1,\n",
       "       1, 0, 0, 0, 1, 0, 0, 0, 0, 0, 0, 0, 1, 0, 0, 0, 0, 0, 1, 0, 1, 0, 1,\n",
       "       1, 0, 0, 0, 0, 0, 1, 0, 0, 0, 0, 1, 0, 1, 0, 0, 1, 0, 0, 0, 1, 1, 1,\n",
       "       1, 0, 0, 0, 1, 0, 0, 0, 0, 0, 0, 1, 1, 0, 0, 0, 0, 0, 0, 1, 1, 0, 1,\n",
       "       1, 0, 1, 1, 1, 0, 0, 0, 0, 0, 0, 1, 1, 0, 0, 0, 0, 0, 0, 0, 1, 0, 0,\n",
       "       0, 1, 0, 1, 0, 0, 0, 0, 0, 1, 1, 0, 0, 1, 0, 1, 1, 0, 0, 1, 1, 0, 0,\n",
       "       0])"
      ]
     },
     "execution_count": 21,
     "metadata": {},
     "output_type": "execute_result"
    }
   ],
   "source": [
    "y_test"
   ]
  },
  {
   "cell_type": "code",
   "execution_count": 22,
   "metadata": {},
   "outputs": [
    {
     "data": {
      "text/plain": [
       "(231,)"
      ]
     },
     "execution_count": 22,
     "metadata": {},
     "output_type": "execute_result"
    }
   ],
   "source": [
    "y_test.shape"
   ]
  },
  {
   "cell_type": "code",
   "execution_count": 23,
   "metadata": {},
   "outputs": [
    {
     "data": {
      "text/plain": [
       "(768,)"
      ]
     },
     "execution_count": 23,
     "metadata": {},
     "output_type": "execute_result"
    }
   ],
   "source": [
    "y.shape"
   ]
  },
  {
   "cell_type": "code",
   "execution_count": 24,
   "metadata": {},
   "outputs": [
    {
     "name": "stderr",
     "output_type": "stream",
     "text": [
      "Using TensorFlow backend.\n"
     ]
    }
   ],
   "source": [
    "import keras \n",
    "from keras.models import Sequential\n",
    "from keras.layers import Dense\n",
    "import numpy as np"
   ]
  },
  {
   "cell_type": "markdown",
   "metadata": {},
   "source": [
    "# adding layers"
   ]
  },
  {
   "cell_type": "code",
   "execution_count": 25,
   "metadata": {},
   "outputs": [],
   "source": [
    "model =Sequential()"
   ]
  },
  {
   "cell_type": "code",
   "execution_count": 26,
   "metadata": {},
   "outputs": [],
   "source": [
    "model.add(Dense(12,input_dim=8,activation='relu')) #input layer"
   ]
  },
  {
   "cell_type": "code",
   "execution_count": 27,
   "metadata": {},
   "outputs": [],
   "source": [
    "model.add(Dense(15,activation='relu'))"
   ]
  },
  {
   "cell_type": "code",
   "execution_count": 28,
   "metadata": {},
   "outputs": [],
   "source": [
    "model.add(Dense(8,activation='relu'))"
   ]
  },
  {
   "cell_type": "code",
   "execution_count": 29,
   "metadata": {},
   "outputs": [],
   "source": [
    "model.add(Dense(10,activation='relu'))"
   ]
  },
  {
   "cell_type": "code",
   "execution_count": 30,
   "metadata": {},
   "outputs": [],
   "source": [
    "model.add(Dense(1,activation='sigmoid'))  #output layer"
   ]
  },
  {
   "cell_type": "markdown",
   "metadata": {},
   "source": [
    "# compile"
   ]
  },
  {
   "cell_type": "code",
   "execution_count": 31,
   "metadata": {},
   "outputs": [],
   "source": [
    "model.compile(loss='binary_crossentropy',optimizer='adam',metrics=['accuracy'])"
   ]
  },
  {
   "cell_type": "code",
   "execution_count": 32,
   "metadata": {},
   "outputs": [
    {
     "name": "stdout",
     "output_type": "stream",
     "text": [
      "Epoch 1/100\n",
      "768/768 [==============================] - 0s 577us/step - loss: 2.2553 - acc: 0.5781\n",
      "Epoch 2/100\n",
      "768/768 [==============================] - 0s 496us/step - loss: 0.8212 - acc: 0.5729\n",
      "Epoch 3/100\n",
      "768/768 [==============================] - 0s 415us/step - loss: 0.7013 - acc: 0.6133\n",
      "Epoch 4/100\n",
      "768/768 [==============================] - 0s 504us/step - loss: 0.6600 - acc: 0.6289\n",
      "Epoch 5/100\n",
      "768/768 [==============================] - 0s 507us/step - loss: 0.6540 - acc: 0.6458 0s - loss: 0.6162 - acc: 0.\n",
      "Epoch 6/100\n",
      "768/768 [==============================] - 0s 513us/step - loss: 0.6545 - acc: 0.6302\n",
      "Epoch 7/100\n",
      "768/768 [==============================] - 0s 421us/step - loss: 0.6269 - acc: 0.6680\n",
      "Epoch 8/100\n",
      "768/768 [==============================] - 0s 516us/step - loss: 0.6258 - acc: 0.6471\n",
      "Epoch 9/100\n",
      "768/768 [==============================] - 0s 511us/step - loss: 0.6297 - acc: 0.6615\n",
      "Epoch 10/100\n",
      "768/768 [==============================] - 0s 509us/step - loss: 0.6211 - acc: 0.6719\n",
      "Epoch 11/100\n",
      "768/768 [==============================] - 0s 513us/step - loss: 0.6206 - acc: 0.6628\n",
      "Epoch 12/100\n",
      "768/768 [==============================] - 0s 518us/step - loss: 0.6040 - acc: 0.6784\n",
      "Epoch 13/100\n",
      "768/768 [==============================] - 0s 420us/step - loss: 0.5955 - acc: 0.6823\n",
      "Epoch 14/100\n",
      "768/768 [==============================] - 0s 505us/step - loss: 0.6133 - acc: 0.6745\n",
      "Epoch 15/100\n",
      "768/768 [==============================] - 0s 507us/step - loss: 0.5806 - acc: 0.7005\n",
      "Epoch 16/100\n",
      "768/768 [==============================] - 0s 511us/step - loss: 0.5963 - acc: 0.6732\n",
      "Epoch 17/100\n",
      "768/768 [==============================] - 0s 420us/step - loss: 0.5816 - acc: 0.7135\n",
      "Epoch 18/100\n",
      "768/768 [==============================] - 0s 509us/step - loss: 0.5777 - acc: 0.6836\n",
      "Epoch 19/100\n",
      "768/768 [==============================] - 0s 515us/step - loss: 0.5748 - acc: 0.6901\n",
      "Epoch 20/100\n",
      "768/768 [==============================] - 0s 414us/step - loss: 0.5746 - acc: 0.7018\n",
      "Epoch 21/100\n",
      "768/768 [==============================] - 0s 503us/step - loss: 0.5707 - acc: 0.6953\n",
      "Epoch 22/100\n",
      "768/768 [==============================] - 0s 507us/step - loss: 0.5661 - acc: 0.7057\n",
      "Epoch 23/100\n",
      "768/768 [==============================] - 0s 417us/step - loss: 0.5607 - acc: 0.7188\n",
      "Epoch 24/100\n",
      "768/768 [==============================] - 0s 502us/step - loss: 0.5630 - acc: 0.7148\n",
      "Epoch 25/100\n",
      "768/768 [==============================] - 0s 506us/step - loss: 0.5718 - acc: 0.7057\n",
      "Epoch 26/100\n",
      "768/768 [==============================] - 0s 409us/step - loss: 0.5780 - acc: 0.7070\n",
      "Epoch 27/100\n",
      "768/768 [==============================] - 0s 511us/step - loss: 0.5720 - acc: 0.7201\n",
      "Epoch 28/100\n",
      "768/768 [==============================] - 0s 510us/step - loss: 0.5588 - acc: 0.7174\n",
      "Epoch 29/100\n",
      "768/768 [==============================] - 0s 417us/step - loss: 0.5495 - acc: 0.7409\n",
      "Epoch 30/100\n",
      "768/768 [==============================] - 0s 502us/step - loss: 0.5603 - acc: 0.7227\n",
      "Epoch 31/100\n",
      "768/768 [==============================] - 0s 415us/step - loss: 0.5611 - acc: 0.6979\n",
      "Epoch 32/100\n",
      "768/768 [==============================] - 0s 505us/step - loss: 0.5486 - acc: 0.7227\n",
      "Epoch 33/100\n",
      "768/768 [==============================] - 0s 510us/step - loss: 0.5542 - acc: 0.7188\n",
      "Epoch 34/100\n",
      "768/768 [==============================] - 0s 507us/step - loss: 0.5322 - acc: 0.7266 0s - loss: 0.5325 - acc: 0.726\n",
      "Epoch 35/100\n",
      "768/768 [==============================] - 0s 414us/step - loss: 0.5378 - acc: 0.7305\n",
      "Epoch 36/100\n",
      "768/768 [==============================] - 0s 507us/step - loss: 0.5387 - acc: 0.7305\n",
      "Epoch 37/100\n",
      "768/768 [==============================] - 0s 509us/step - loss: 0.5461 - acc: 0.7344\n",
      "Epoch 38/100\n",
      "768/768 [==============================] - 0s 421us/step - loss: 0.5423 - acc: 0.7161\n",
      "Epoch 39/100\n",
      "768/768 [==============================] - 0s 505us/step - loss: 0.5417 - acc: 0.7253\n",
      "Epoch 40/100\n",
      "768/768 [==============================] - 0s 507us/step - loss: 0.5253 - acc: 0.7461\n",
      "Epoch 41/100\n",
      "768/768 [==============================] - 0s 412us/step - loss: 0.5388 - acc: 0.7331\n",
      "Epoch 42/100\n",
      "768/768 [==============================] - 0s 506us/step - loss: 0.5274 - acc: 0.7487\n",
      "Epoch 43/100\n",
      "768/768 [==============================] - 0s 510us/step - loss: 0.5324 - acc: 0.7318\n",
      "Epoch 44/100\n",
      "768/768 [==============================] - 0s 517us/step - loss: 0.5338 - acc: 0.7422\n",
      "Epoch 45/100\n",
      "768/768 [==============================] - 0s 413us/step - loss: 0.5192 - acc: 0.7357\n",
      "Epoch 46/100\n",
      "768/768 [==============================] - 0s 508us/step - loss: 0.5232 - acc: 0.7383\n",
      "Epoch 47/100\n",
      "768/768 [==============================] - 0s 510us/step - loss: 0.5135 - acc: 0.7409\n",
      "Epoch 48/100\n",
      "768/768 [==============================] - 0s 412us/step - loss: 0.5216 - acc: 0.7383\n",
      "Epoch 49/100\n",
      "768/768 [==============================] - 0s 511us/step - loss: 0.5242 - acc: 0.7513\n",
      "Epoch 50/100\n",
      "768/768 [==============================] - 0s 512us/step - loss: 0.5238 - acc: 0.7487\n",
      "Epoch 51/100\n",
      "768/768 [==============================] - 0s 504us/step - loss: 0.5109 - acc: 0.7513\n",
      "Epoch 52/100\n",
      "768/768 [==============================] - 0s 417us/step - loss: 0.5137 - acc: 0.7552\n",
      "Epoch 53/100\n",
      "768/768 [==============================] - 0s 513us/step - loss: 0.5104 - acc: 0.7422\n",
      "Epoch 54/100\n",
      "768/768 [==============================] - 0s 508us/step - loss: 0.5232 - acc: 0.7409\n",
      "Epoch 55/100\n",
      "768/768 [==============================] - 0s 416us/step - loss: 0.5099 - acc: 0.7409\n",
      "Epoch 56/100\n",
      "768/768 [==============================] - 0s 506us/step - loss: 0.5131 - acc: 0.7422\n",
      "Epoch 57/100\n",
      "768/768 [==============================] - 0s 505us/step - loss: 0.5087 - acc: 0.7383\n",
      "Epoch 58/100\n",
      "768/768 [==============================] - 0s 416us/step - loss: 0.5172 - acc: 0.7487\n",
      "Epoch 59/100\n",
      "768/768 [==============================] - 0s 510us/step - loss: 0.5239 - acc: 0.7383\n",
      "Epoch 60/100\n",
      "768/768 [==============================] - 0s 514us/step - loss: 0.5011 - acc: 0.7513\n",
      "Epoch 61/100\n",
      "768/768 [==============================] - 0s 508us/step - loss: 0.5107 - acc: 0.7513\n",
      "Epoch 62/100\n",
      "768/768 [==============================] - 0s 410us/step - loss: 0.5154 - acc: 0.7448\n",
      "Epoch 63/100\n",
      "768/768 [==============================] - 0s 511us/step - loss: 0.4982 - acc: 0.7565\n",
      "Epoch 64/100\n",
      "768/768 [==============================] - 0s 507us/step - loss: 0.4997 - acc: 0.7591\n",
      "Epoch 65/100\n",
      "768/768 [==============================] - 0s 419us/step - loss: 0.5007 - acc: 0.7474\n",
      "Epoch 66/100\n",
      "768/768 [==============================] - 0s 508us/step - loss: 0.5022 - acc: 0.7487\n",
      "Epoch 67/100\n",
      "768/768 [==============================] - 0s 511us/step - loss: 0.5005 - acc: 0.7461\n",
      "Epoch 68/100\n",
      "768/768 [==============================] - 0s 510us/step - loss: 0.5025 - acc: 0.7591\n",
      "Epoch 69/100\n",
      "768/768 [==============================] - 0s 418us/step - loss: 0.5008 - acc: 0.7552\n",
      "Epoch 70/100\n",
      "768/768 [==============================] - 0s 508us/step - loss: 0.4910 - acc: 0.7591\n",
      "Epoch 71/100\n",
      "768/768 [==============================] - 0s 512us/step - loss: 0.5002 - acc: 0.7656\n",
      "Epoch 72/100\n",
      "768/768 [==============================] - 0s 416us/step - loss: 0.4985 - acc: 0.7656\n",
      "Epoch 73/100\n",
      "768/768 [==============================] - 0s 505us/step - loss: 0.4983 - acc: 0.7552\n",
      "Epoch 74/100\n",
      "768/768 [==============================] - 0s 505us/step - loss: 0.5019 - acc: 0.7474\n",
      "Epoch 75/100\n",
      "768/768 [==============================] - 0s 507us/step - loss: 0.4907 - acc: 0.7708\n",
      "Epoch 76/100\n",
      "768/768 [==============================] - 0s 416us/step - loss: 0.5216 - acc: 0.7383\n",
      "Epoch 77/100\n",
      "768/768 [==============================] - 0s 505us/step - loss: 0.5032 - acc: 0.7552\n",
      "Epoch 78/100\n",
      "768/768 [==============================] - 0s 415us/step - loss: 0.4975 - acc: 0.7500\n",
      "Epoch 79/100\n",
      "768/768 [==============================] - 0s 506us/step - loss: 0.5025 - acc: 0.7578\n",
      "Epoch 80/100\n",
      "768/768 [==============================] - 0s 505us/step - loss: 0.4804 - acc: 0.7630\n",
      "Epoch 81/100\n",
      "768/768 [==============================] - 0s 512us/step - loss: 0.5011 - acc: 0.7565\n",
      "Epoch 82/100\n",
      "768/768 [==============================] - 0s 418us/step - loss: 0.4951 - acc: 0.7474\n",
      "Epoch 83/100\n",
      "768/768 [==============================] - 0s 501us/step - loss: 0.4878 - acc: 0.7656\n",
      "Epoch 84/100\n",
      "768/768 [==============================] - 0s 419us/step - loss: 0.5014 - acc: 0.7552\n",
      "Epoch 85/100\n",
      "768/768 [==============================] - 0s 512us/step - loss: 0.5123 - acc: 0.7487\n",
      "Epoch 86/100\n",
      "768/768 [==============================] - 0s 509us/step - loss: 0.4928 - acc: 0.7708\n",
      "Epoch 87/100\n",
      "768/768 [==============================] - 0s 508us/step - loss: 0.4840 - acc: 0.7721\n",
      "Epoch 88/100\n",
      "768/768 [==============================] - 0s 420us/step - loss: 0.4917 - acc: 0.7578\n",
      "Epoch 89/100\n",
      "768/768 [==============================] - 0s 507us/step - loss: 0.4746 - acc: 0.7799\n",
      "Epoch 90/100\n",
      "768/768 [==============================] - 0s 511us/step - loss: 0.4911 - acc: 0.7604\n",
      "Epoch 91/100\n",
      "768/768 [==============================] - 0s 507us/step - loss: 0.4805 - acc: 0.7630\n",
      "Epoch 92/100\n",
      "768/768 [==============================] - 0s 424us/step - loss: 0.4802 - acc: 0.7643\n",
      "Epoch 93/100\n",
      "768/768 [==============================] - 0s 509us/step - loss: 0.4759 - acc: 0.7539\n",
      "Epoch 94/100\n",
      "768/768 [==============================] - 0s 510us/step - loss: 0.4777 - acc: 0.7812 0s - loss: 0.4528 - acc: 0.80\n",
      "Epoch 95/100\n",
      "768/768 [==============================] - 0s 508us/step - loss: 0.4734 - acc: 0.7591\n",
      "Epoch 96/100\n",
      "768/768 [==============================] - 0s 516us/step - loss: 0.4854 - acc: 0.7656\n",
      "Epoch 97/100\n",
      "768/768 [==============================] - 0s 420us/step - loss: 0.4773 - acc: 0.7656\n",
      "Epoch 98/100\n",
      "768/768 [==============================] - 0s 508us/step - loss: 0.4927 - acc: 0.7656\n",
      "Epoch 99/100\n",
      "768/768 [==============================] - 0s 506us/step - loss: 0.4768 - acc: 0.7669 0s - loss: 0.4737 - acc: 0.768\n",
      "Epoch 100/100\n",
      "768/768 [==============================] - 0s 416us/step - loss: 0.4716 - acc: 0.7786\n"
     ]
    },
    {
     "data": {
      "text/plain": [
       "<keras.callbacks.History at 0x7f59ddf911d0>"
      ]
     },
     "execution_count": 32,
     "metadata": {},
     "output_type": "execute_result"
    }
   ],
   "source": [
    "model.fit(x,y,epochs=100,batch_size=10)"
   ]
  },
  {
   "cell_type": "code",
   "execution_count": 52,
   "metadata": {},
   "outputs": [],
   "source": [
    "model.save(\"diabetes.h5\")"
   ]
  },
  {
   "cell_type": "code",
   "execution_count": 53,
   "metadata": {},
   "outputs": [
    {
     "name": "stdout",
     "output_type": "stream",
     "text": [
      "diabetes.h5\r\n"
     ]
    }
   ],
   "source": [
    "get_ipython().system(u'tar -zcvf diabetes.tgz diabetes.h5')"
   ]
  },
  {
   "cell_type": "code",
   "execution_count": 54,
   "metadata": {},
   "outputs": [],
   "source": [
    "y_pred=model.predict(x_test)"
   ]
  },
  {
   "cell_type": "code",
   "execution_count": 55,
   "metadata": {},
   "outputs": [
    {
     "data": {
      "text/plain": [
       "array([[  9.63646710e-01],\n",
       "       [  1.87043205e-01],\n",
       "       [  1.79022416e-01],\n",
       "       [  6.95937693e-01],\n",
       "       [  1.90670684e-01],\n",
       "       [  9.11543518e-02],\n",
       "       [  6.76368415e-01],\n",
       "       [  6.50336206e-01],\n",
       "       [  3.88072908e-01],\n",
       "       [  4.19574678e-01],\n",
       "       [  5.80792367e-01],\n",
       "       [  8.56012523e-01],\n",
       "       [  2.39471555e-01],\n",
       "       [  1.72388673e-01],\n",
       "       [  1.84012160e-01],\n",
       "       [  2.09448233e-01],\n",
       "       [  7.35896051e-01],\n",
       "       [  1.02138549e-01],\n",
       "       [  4.73548353e-01],\n",
       "       [  2.79486448e-01],\n",
       "       [  6.75839543e-01],\n",
       "       [  3.92315954e-01],\n",
       "       [  4.77433175e-01],\n",
       "       [  1.45623103e-01],\n",
       "       [  1.17594600e-01],\n",
       "       [  5.63253284e-01],\n",
       "       [  4.20804024e-02],\n",
       "       [  6.83258712e-01],\n",
       "       [  2.27865785e-01],\n",
       "       [  3.60889524e-01],\n",
       "       [  5.16117990e-01],\n",
       "       [  2.12922618e-01],\n",
       "       [  8.57473612e-02],\n",
       "       [  5.44237912e-01],\n",
       "       [  1.41494602e-01],\n",
       "       [  8.53380024e-01],\n",
       "       [  5.46181321e-01],\n",
       "       [  2.93333083e-02],\n",
       "       [  3.97469580e-01],\n",
       "       [  3.56612295e-01],\n",
       "       [  2.11939842e-01],\n",
       "       [  1.91349387e-01],\n",
       "       [  1.71195462e-01],\n",
       "       [  9.59717572e-01],\n",
       "       [  8.99354219e-01],\n",
       "       [  5.66413917e-04],\n",
       "       [  1.48271933e-01],\n",
       "       [  3.82685959e-01],\n",
       "       [  3.43854964e-01],\n",
       "       [  3.94927382e-01],\n",
       "       [  6.94371462e-01],\n",
       "       [  2.30803937e-01],\n",
       "       [  8.23794425e-01],\n",
       "       [  4.40121114e-01],\n",
       "       [  1.80259109e-01],\n",
       "       [  2.65945941e-01],\n",
       "       [  1.18201576e-01],\n",
       "       [  4.16338921e-01],\n",
       "       [  5.12255251e-01],\n",
       "       [  2.81857342e-01],\n",
       "       [  6.68000817e-01],\n",
       "       [  4.88791347e-01],\n",
       "       [  1.62962124e-01],\n",
       "       [  9.15199399e-01],\n",
       "       [  8.25499833e-01],\n",
       "       [  9.40720081e-01],\n",
       "       [  7.49463201e-01],\n",
       "       [  3.26528519e-01],\n",
       "       [  4.41653997e-01],\n",
       "       [  2.06405774e-01],\n",
       "       [  3.20515811e-01],\n",
       "       [  4.49301779e-01],\n",
       "       [  1.04142085e-01],\n",
       "       [  9.00747359e-01],\n",
       "       [  9.52632546e-01],\n",
       "       [  3.98553908e-01],\n",
       "       [  9.56624374e-02],\n",
       "       [  6.59982026e-01],\n",
       "       [  9.56513807e-02],\n",
       "       [  2.72775710e-01],\n",
       "       [  2.96885550e-01],\n",
       "       [  4.68635112e-01],\n",
       "       [  2.23325789e-01],\n",
       "       [  9.56768766e-02],\n",
       "       [  3.71538490e-01],\n",
       "       [  2.17416957e-01],\n",
       "       [  7.34642863e-01],\n",
       "       [  3.86471063e-01],\n",
       "       [  7.81744778e-01],\n",
       "       [  1.39355794e-01],\n",
       "       [  2.27543712e-01],\n",
       "       [  1.73662066e-01],\n",
       "       [  2.40786254e-01],\n",
       "       [  2.56289728e-02],\n",
       "       [  2.47106716e-01],\n",
       "       [  1.70298576e-01],\n",
       "       [  2.36110166e-01],\n",
       "       [  4.57489759e-01],\n",
       "       [  5.35025418e-01],\n",
       "       [  4.87500608e-01],\n",
       "       [  2.64100671e-01],\n",
       "       [  1.93612114e-01],\n",
       "       [  2.07310438e-01],\n",
       "       [  7.96854794e-02],\n",
       "       [  6.78932309e-01],\n",
       "       [  5.97301543e-01],\n",
       "       [  1.31764054e-01],\n",
       "       [  4.19201851e-01],\n",
       "       [  5.68478443e-02],\n",
       "       [  9.20395195e-01],\n",
       "       [  1.42349929e-01],\n",
       "       [  3.66453379e-01],\n",
       "       [  8.12958002e-01],\n",
       "       [  3.93469483e-01],\n",
       "       [  5.84100127e-01],\n",
       "       [  6.77422166e-01],\n",
       "       [  1.83335617e-01],\n",
       "       [  7.86168754e-01],\n",
       "       [  3.43779773e-02],\n",
       "       [  5.92749715e-01],\n",
       "       [  4.31724936e-01],\n",
       "       [  3.49079221e-01],\n",
       "       [  3.85102987e-01],\n",
       "       [  3.61554742e-01],\n",
       "       [  4.89821732e-02],\n",
       "       [  1.68204755e-01],\n",
       "       [  1.97973773e-01],\n",
       "       [  4.29731935e-01],\n",
       "       [  1.78557739e-01],\n",
       "       [  1.58903375e-01],\n",
       "       [  5.55825412e-01],\n",
       "       [  2.57607758e-01],\n",
       "       [  1.21550776e-01],\n",
       "       [  6.43902481e-01],\n",
       "       [  2.42509380e-01],\n",
       "       [  6.01685286e-01],\n",
       "       [  4.79919076e-01],\n",
       "       [  5.63185751e-01],\n",
       "       [  8.95169914e-01],\n",
       "       [  4.77016926e-01],\n",
       "       [  1.09227784e-01],\n",
       "       [  5.35119057e-01],\n",
       "       [  2.21814230e-01],\n",
       "       [  1.21546805e-01],\n",
       "       [  5.89660168e-01],\n",
       "       [  2.17719331e-01],\n",
       "       [  1.00834906e-01],\n",
       "       [  3.51239741e-01],\n",
       "       [  1.14811733e-01],\n",
       "       [  2.40906686e-01],\n",
       "       [  1.29444733e-01],\n",
       "       [  7.20981181e-01],\n",
       "       [  1.84041843e-01],\n",
       "       [  1.60860732e-01],\n",
       "       [  5.60230255e-01],\n",
       "       [  2.73027122e-01],\n",
       "       [  2.85898566e-01],\n",
       "       [  2.38950342e-01],\n",
       "       [  5.12863159e-01],\n",
       "       [  7.68646061e-01],\n",
       "       [  6.25683308e-01],\n",
       "       [  7.75155365e-01],\n",
       "       [  1.02788657e-01],\n",
       "       [  2.88648009e-01],\n",
       "       [  9.41115975e-01],\n",
       "       [  7.70911932e-01],\n",
       "       [  1.30017295e-01],\n",
       "       [  3.42631578e-01],\n",
       "       [  6.23273373e-01],\n",
       "       [  1.17207773e-01],\n",
       "       [  1.30025759e-01],\n",
       "       [  1.74226776e-01],\n",
       "       [  4.61990327e-01],\n",
       "       [  2.68763959e-01],\n",
       "       [  5.85095286e-01],\n",
       "       [  1.62985757e-01],\n",
       "       [  1.07883707e-01],\n",
       "       [  1.35879979e-01],\n",
       "       [  1.85177639e-01],\n",
       "       [  9.98077691e-02],\n",
       "       [  2.72825629e-01],\n",
       "       [  8.63622665e-01],\n",
       "       [  1.16699316e-01],\n",
       "       [  9.58777606e-01],\n",
       "       [  7.43077815e-01],\n",
       "       [  1.21380128e-01],\n",
       "       [  8.90534222e-01],\n",
       "       [  4.71446186e-01],\n",
       "       [  5.56870222e-01],\n",
       "       [  1.63753614e-01],\n",
       "       [  4.48681414e-01],\n",
       "       [  1.98605672e-01],\n",
       "       [  3.09864998e-01],\n",
       "       [  3.16800416e-01],\n",
       "       [  6.39581010e-02],\n",
       "       [  7.85862863e-01],\n",
       "       [  6.42292142e-01],\n",
       "       [  6.20386958e-01],\n",
       "       [  2.57854342e-01],\n",
       "       [  1.40463442e-01],\n",
       "       [  1.77999869e-01],\n",
       "       [  3.12371075e-01],\n",
       "       [  3.30989659e-01],\n",
       "       [  6.62869036e-01],\n",
       "       [  3.24795157e-01],\n",
       "       [  1.15126722e-01],\n",
       "       [  2.76847780e-01],\n",
       "       [  1.46563053e-01],\n",
       "       [  3.83927405e-01],\n",
       "       [  2.46840507e-01],\n",
       "       [  1.60662010e-01],\n",
       "       [  7.27603957e-02],\n",
       "       [  2.25955188e-01],\n",
       "       [  6.19912624e-01],\n",
       "       [  2.10394248e-01],\n",
       "       [  1.58519194e-01],\n",
       "       [  5.10302067e-01],\n",
       "       [  4.36842591e-01],\n",
       "       [  1.72052458e-01],\n",
       "       [  3.82457137e-01],\n",
       "       [  3.86559635e-01],\n",
       "       [  9.33960453e-02],\n",
       "       [  2.67381310e-01],\n",
       "       [  5.77510655e-01],\n",
       "       [  4.22436982e-01],\n",
       "       [  8.22767735e-01],\n",
       "       [  2.59072304e-01],\n",
       "       [  3.43082488e-01],\n",
       "       [  7.75089562e-02],\n",
       "       [  2.39762068e-01],\n",
       "       [  5.96432805e-01]], dtype=float32)"
      ]
     },
     "execution_count": 55,
     "metadata": {},
     "output_type": "execute_result"
    }
   ],
   "source": [
    "y_pred"
   ]
  },
  {
   "cell_type": "code",
   "execution_count": 56,
   "metadata": {},
   "outputs": [
    {
     "data": {
      "text/plain": [
       "array([1, 0, 0, 1, 0, 0, 1, 1, 0, 0, 1, 1, 0, 0, 0, 0, 1, 0, 0, 0, 1, 1, 0,\n",
       "       0, 0, 0, 0, 0, 0, 0, 0, 0, 0, 0, 0, 1, 1, 0, 0, 0, 0, 0, 0, 1, 1, 0,\n",
       "       0, 1, 1, 1, 0, 0, 1, 0, 0, 0, 0, 1, 1, 1, 1, 0, 0, 1, 1, 1, 1, 0, 0,\n",
       "       0, 0, 0, 0, 0, 1, 0, 0, 0, 0, 0, 0, 0, 0, 0, 0, 0, 1, 0, 1, 0, 0, 0,\n",
       "       0, 0, 0, 0, 1, 0, 1, 1, 0, 0, 0, 0, 0, 1, 0, 0, 0, 1, 0, 1, 1, 1, 1,\n",
       "       1, 0, 0, 0, 1, 0, 0, 0, 0, 0, 0, 0, 1, 0, 0, 0, 0, 0, 1, 0, 1, 0, 1,\n",
       "       1, 0, 0, 0, 0, 0, 1, 0, 0, 0, 0, 1, 0, 1, 0, 0, 1, 0, 0, 0, 1, 1, 1,\n",
       "       1, 0, 0, 0, 1, 0, 0, 0, 0, 0, 0, 1, 1, 0, 0, 0, 0, 0, 0, 1, 1, 0, 1,\n",
       "       1, 0, 1, 1, 1, 0, 0, 0, 0, 0, 0, 1, 1, 0, 0, 0, 0, 0, 0, 0, 1, 0, 0,\n",
       "       0, 1, 0, 1, 0, 0, 0, 0, 0, 1, 1, 0, 0, 1, 0, 1, 1, 0, 0, 1, 1, 0, 0,\n",
       "       0])"
      ]
     },
     "execution_count": 56,
     "metadata": {},
     "output_type": "execute_result"
    }
   ],
   "source": [
    "y_test"
   ]
  },
  {
   "cell_type": "code",
   "execution_count": 57,
   "metadata": {},
   "outputs": [],
   "source": [
    "y_pred1 = model.predict(np.array([[5,116,74,0,0,25.6,0.201,30]]))"
   ]
  },
  {
   "cell_type": "code",
   "execution_count": 58,
   "metadata": {},
   "outputs": [
    {
     "data": {
      "text/plain": [
       "array([[ 0.30298603]], dtype=float32)"
      ]
     },
     "execution_count": 58,
     "metadata": {},
     "output_type": "execute_result"
    }
   ],
   "source": [
    "y_pred1"
   ]
  },
  {
   "cell_type": "code",
   "execution_count": 59,
   "metadata": {},
   "outputs": [],
   "source": [
    "y_pred2 =model.predict(np.array([[15,136,70,32,110,37.1,0.153,43]]))"
   ]
  },
  {
   "cell_type": "code",
   "execution_count": 60,
   "metadata": {},
   "outputs": [
    {
     "data": {
      "text/plain": [
       "array([[ 0.5958547]], dtype=float32)"
      ]
     },
     "execution_count": 60,
     "metadata": {},
     "output_type": "execute_result"
    }
   ],
   "source": [
    "y_pred2"
   ]
  },
  {
   "cell_type": "code",
   "execution_count": 61,
   "metadata": {},
   "outputs": [],
   "source": [
    "y_pred3 = model.predict(np.array([[0,125,96,0,0,22.5,0.262,21]]))"
   ]
  },
  {
   "cell_type": "code",
   "execution_count": 62,
   "metadata": {},
   "outputs": [
    {
     "data": {
      "text/plain": [
       "array([[ 0.00112301]], dtype=float32)"
      ]
     },
     "execution_count": 62,
     "metadata": {},
     "output_type": "execute_result"
    }
   ],
   "source": [
    "y_pred3"
   ]
  },
  {
   "cell_type": "code",
   "execution_count": 63,
   "metadata": {},
   "outputs": [],
   "source": [
    "y_pred4 = model.predict(np.array([[8,179,72,42,130,32.7,0.719,36]]))"
   ]
  },
  {
   "cell_type": "code",
   "execution_count": 64,
   "metadata": {},
   "outputs": [
    {
     "data": {
      "text/plain": [
       "array([[ 0.73589605]], dtype=float32)"
      ]
     },
     "execution_count": 64,
     "metadata": {},
     "output_type": "execute_result"
    }
   ],
   "source": [
    "y_pred4"
   ]
  },
  {
   "cell_type": "code",
   "execution_count": 65,
   "metadata": {},
   "outputs": [],
   "source": [
    "y_pred5 = model.predict(np.array([[11,103,68,40,0,46.2,0.126,42]]))"
   ]
  },
  {
   "cell_type": "code",
   "execution_count": 45,
   "metadata": {},
   "outputs": [
    {
     "data": {
      "text/plain": [
       "array([[ 0.62086201]], dtype=float32)"
      ]
     },
     "execution_count": 45,
     "metadata": {},
     "output_type": "execute_result"
    }
   ],
   "source": [
    "y_pred5"
   ]
  },
  {
   "cell_type": "code",
   "execution_count": 66,
   "metadata": {},
   "outputs": [
    {
     "name": "stdout",
     "output_type": "stream",
     "text": [
      "Requirement already satisfied: watson_machine_learning_client in /opt/conda/envs/DSX-Python35/lib/python3.5/site-packages (1.0.365)\n",
      "Requirement already satisfied: lomond in /opt/conda/envs/DSX-Python35/lib/python3.5/site-packages (from watson_machine_learning_client) (0.1.13)\n",
      "Requirement already satisfied: urllib3 in /opt/conda/envs/DSX-Python35/lib/python3.5/site-packages (from watson_machine_learning_client) (1.22)\n",
      "Requirement already satisfied: tabulate in /opt/conda/envs/DSX-Python35/lib/python3.5/site-packages (from watson_machine_learning_client) (0.8.2)\n",
      "Requirement already satisfied: requests in /opt/conda/envs/DSX-Python35/lib/python3.5/site-packages (from watson_machine_learning_client) (2.18.4)\n",
      "Requirement already satisfied: pandas in /opt/conda/envs/DSX-Python35/lib/python3.5/site-packages (from watson_machine_learning_client) (0.21.0)\n",
      "Requirement already satisfied: certifi in /opt/conda/envs/DSX-Python35/lib/python3.5/site-packages (from watson_machine_learning_client) (2019.3.9)\n",
      "Requirement already satisfied: ibm-cos-sdk in /opt/conda/envs/DSX-Python35/lib/python3.5/site-packages (from watson_machine_learning_client) (2.0.1)\n",
      "Requirement already satisfied: tqdm in /opt/conda/envs/DSX-Python35/lib/python3.5/site-packages (from watson_machine_learning_client) (4.19.5)\n",
      "Requirement already satisfied: six>=1.10.0 in /opt/conda/envs/DSX-Python35/lib/python3.5/site-packages (from lomond->watson_machine_learning_client) (1.11.0)\n",
      "Requirement already satisfied: chardet<3.1.0,>=3.0.2 in /opt/conda/envs/DSX-Python35/lib/python3.5/site-packages (from requests->watson_machine_learning_client) (3.0.4)\n",
      "Requirement already satisfied: idna<2.7,>=2.5 in /opt/conda/envs/DSX-Python35/lib/python3.5/site-packages (from requests->watson_machine_learning_client) (2.6)\n",
      "Requirement already satisfied: python-dateutil>=2 in /opt/conda/envs/DSX-Python35/lib/python3.5/site-packages (from pandas->watson_machine_learning_client) (2.6.1)\n",
      "Requirement already satisfied: pytz>=2011k in /opt/conda/envs/DSX-Python35/lib/python3.5/site-packages (from pandas->watson_machine_learning_client) (2018.3)\n",
      "Requirement already satisfied: numpy>=1.9.0 in /opt/conda/envs/DSX-Python35/lib/python3.5/site-packages (from pandas->watson_machine_learning_client) (1.13.3)\n",
      "Requirement already satisfied: ibm-cos-sdk-core==2.*,>=2.0.0 in /opt/conda/envs/DSX-Python35/lib/python3.5/site-packages (from ibm-cos-sdk->watson_machine_learning_client) (2.0.1)\n",
      "Requirement already satisfied: ibm-cos-sdk-s3transfer==2.*,>=2.0.0 in /opt/conda/envs/DSX-Python35/lib/python3.5/site-packages (from ibm-cos-sdk->watson_machine_learning_client) (2.0.1)\n",
      "Requirement already satisfied: docutils>=0.10 in /opt/conda/envs/DSX-Python35/lib/python3.5/site-packages (from ibm-cos-sdk-core==2.*,>=2.0.0->ibm-cos-sdk->watson_machine_learning_client) (0.14)\n",
      "Requirement already satisfied: jmespath<1.0.0,>=0.7.1 in /opt/conda/envs/DSX-Python35/lib/python3.5/site-packages (from ibm-cos-sdk-core==2.*,>=2.0.0->ibm-cos-sdk->watson_machine_learning_client) (0.9.3)\n",
      "\u001b[31mtensorflow 1.3.0 requires tensorflow-tensorboard<0.2.0,>=0.1.0, which is not installed.\u001b[0m\n"
     ]
    }
   ],
   "source": [
    "!pip install watson_machine_learning_client"
   ]
  },
  {
   "cell_type": "code",
   "execution_count": 67,
   "metadata": {},
   "outputs": [],
   "source": [
    "from watson_machine_learning_client import WatsonMachineLearningAPIClient"
   ]
  },
  {
   "cell_type": "code",
   "execution_count": 68,
   "metadata": {},
   "outputs": [],
   "source": [
    "wml_credentials={\n",
    "  \"url\": \"https://eu-gb.ml.cloud.ibm.com\",\n",
    "  \"access_key\": \"vQu_BmYuF_HCKo797yKIJkxnJ5hR44VbWjV5xhbfEwsr\",\n",
    "  \"username\": \"262c188e-30f5-4a70-88c7-cf1c408fc458\",\n",
    "  \"password\": \"ff336350-39da-459e-bfa9-a13ef5f4ada4\",\n",
    "  \"instance_id\": \"2bac0398-06d5-4634-9514-d2dd7f443b41\"\n",
    "}"
   ]
  },
  {
   "cell_type": "code",
   "execution_count": 69,
   "metadata": {},
   "outputs": [],
   "source": [
    "client = WatsonMachineLearningAPIClient( wml_credentials )"
   ]
  },
  {
   "cell_type": "code",
   "execution_count": 70,
   "metadata": {},
   "outputs": [],
   "source": [
    "metadata = {\n",
    "    client.repository.ModelMetaNames.NAME: \"keras model\",\n",
    "    client.repository.ModelMetaNames.FRAMEWORK_NAME: \"tensorflow\",\n",
    "    client.repository.ModelMetaNames.FRAMEWORK_LIBRARIES:[{'name':'keras','version':'2.1.3'}],\n",
    "    client.repository.ModelMetaNames.FRAMEWORK_VERSION: \"1.5\"\n",
    "}\n"
   ]
  },
  {
   "cell_type": "code",
   "execution_count": 71,
   "metadata": {},
   "outputs": [],
   "source": [
    "model_details = client.repository.store_model( model=\"diabetes.tgz\", meta_props=metadata )"
   ]
  },
  {
   "cell_type": "code",
   "execution_count": 72,
   "metadata": {},
   "outputs": [],
   "source": [
    "model_id=model_details[\"metadata\"][\"guid\"]"
   ]
  },
  {
   "cell_type": "code",
   "execution_count": 74,
   "metadata": {},
   "outputs": [
    {
     "name": "stdout",
     "output_type": "stream",
     "text": [
      "\n",
      "\n",
      "#######################################################################################\n",
      "\n",
      "Synchronous deployment creation for uid: '469dd45a-a23e-48f4-95ae-44696564fd18' started\n",
      "\n",
      "#######################################################################################\n",
      "\n",
      "\n",
      "INITIALIZING\n",
      "DEPLOY_IN_PROGRESS\n",
      "DEPLOY_SUCCESS\n",
      "\n",
      "\n",
      "------------------------------------------------------------------------------------------------\n",
      "Successfully finished deployment creation, deployment_uid='fed96a46-f7b9-4ac2-a792-a2c638ed6ce6'\n",
      "------------------------------------------------------------------------------------------------\n",
      "\n",
      "\n"
     ]
    }
   ],
   "source": [
    "model_deployment_details = client.deployments.create(artifact_uid=model_id,name='deployment')"
   ]
  },
  {
   "cell_type": "code",
   "execution_count": 75,
   "metadata": {},
   "outputs": [],
   "source": [
    "scoring_endpoint=client.deployments.get_scoring_url(model_deployment_details)"
   ]
  },
  {
   "cell_type": "code",
   "execution_count": 76,
   "metadata": {},
   "outputs": [
    {
     "data": {
      "text/plain": [
       "'https://eu-gb.ml.cloud.ibm.com/v3/wml_instances/2bac0398-06d5-4634-9514-d2dd7f443b41/deployments/fed96a46-f7b9-4ac2-a792-a2c638ed6ce6/online'"
      ]
     },
     "execution_count": 76,
     "metadata": {},
     "output_type": "execute_result"
    }
   ],
   "source": [
    "scoring_endpoint"
   ]
  },
  {
   "cell_type": "code",
   "execution_count": 77,
   "metadata": {},
   "outputs": [],
   "source": [
    "scoring_payload = {\"fields\":[\"Prediction\"],\"values\":[[6,148,72,35,0,33.6,0.627,50]]}"
   ]
  },
  {
   "cell_type": "code",
   "execution_count": 78,
   "metadata": {},
   "outputs": [],
   "source": [
    "predictions = client.deployments.score(scoring_endpoint,scoring_payload)"
   ]
  },
  {
   "cell_type": "code",
   "execution_count": 79,
   "metadata": {},
   "outputs": [
    {
     "data": {
      "text/plain": [
       "{'fields': ['prediction', 'prediction_classes', 'probability'],\n",
       " 'values': [[[0.8781336545944214], [1], [0.8781336545944214]]]}"
      ]
     },
     "execution_count": 79,
     "metadata": {},
     "output_type": "execute_result"
    }
   ],
   "source": [
    "predictions"
   ]
  },
  {
   "cell_type": "code",
   "execution_count": null,
   "metadata": {},
   "outputs": [],
   "source": []
  }
 ],
 "metadata": {
  "kernelspec": {
   "display_name": "Python 3.5",
   "language": "python",
   "name": "python3"
  },
  "language_info": {
   "codemirror_mode": {
    "name": "ipython",
    "version": 3
   },
   "file_extension": ".py",
   "mimetype": "text/x-python",
   "name": "python",
   "nbconvert_exporter": "python",
   "pygments_lexer": "ipython3",
   "version": "3.5.5"
  }
 },
 "nbformat": 4,
 "nbformat_minor": 2
}
